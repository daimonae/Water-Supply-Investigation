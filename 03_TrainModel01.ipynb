{
 "cells": [
  {
   "cell_type": "markdown",
   "id": "e397dab9",
   "metadata": {},
   "source": [
    "## Supervised Binary Classification with parametric Algorithm\n",
    "Modeling of Data as Supervised Learning Problem as a binary classification. The ten minutes leading up to the crash will be assigned with target = 1. Logistic Regression will be used, as I want to see calibrated Probabilites for Failure and change Thresholds. In this first attempt, all Features will be used.\n",
    "\n",
    "Approach:\n",
    "- Train Test Split\n",
    "- Normalize Data\n",
    "- Balance Dataset with SMOTE\n",
    "- Train Data with simple Learning Algorithm: Logistic Regression"
   ]
  },
  {
   "cell_type": "code",
   "execution_count": 1,
   "id": "7e6ad601",
   "metadata": {},
   "outputs": [],
   "source": [
    "# Data Manipulation and Visualization\n",
    "import pandas as pd\n",
    "import numpy as np\n",
    "import matplotlib.pyplot as plt\n",
    "import seaborn as sns\n",
    "from warnings import filterwarnings\n",
    "filterwarnings('ignore')\n",
    "\n",
    "\n",
    "# Data Preparation\n",
    "from sklearn.model_selection import train_test_split\n",
    "import collections\n",
    "from imblearn.over_sampling import SMOTE\n",
    "from sklearn.preprocessing import StandardScaler\n",
    "\n",
    "# Machine learning\n",
    "from sklearn.linear_model import LogisticRegression\n",
    "from sklearn.metrics import confusion_matrix"
   ]
  },
  {
   "cell_type": "markdown",
   "id": "0f0547c1",
   "metadata": {},
   "source": [
    "## Import and Check Data"
   ]
  },
  {
   "cell_type": "code",
   "execution_count": 2,
   "id": "d8df8bd1",
   "metadata": {},
   "outputs": [],
   "source": [
    "df = pd.read_csv('transform_one.csv')"
   ]
  },
  {
   "cell_type": "code",
   "execution_count": 3,
   "id": "911e3f26",
   "metadata": {},
   "outputs": [
    {
     "data": {
      "text/html": [
       "<div>\n",
       "<style scoped>\n",
       "    .dataframe tbody tr th:only-of-type {\n",
       "        vertical-align: middle;\n",
       "    }\n",
       "\n",
       "    .dataframe tbody tr th {\n",
       "        vertical-align: top;\n",
       "    }\n",
       "\n",
       "    .dataframe thead th {\n",
       "        text-align: right;\n",
       "    }\n",
       "</style>\n",
       "<table border=\"1\" class=\"dataframe\">\n",
       "  <thead>\n",
       "    <tr style=\"text-align: right;\">\n",
       "      <th></th>\n",
       "      <th>sensor_00</th>\n",
       "      <th>sensor_01</th>\n",
       "      <th>sensor_02</th>\n",
       "      <th>sensor_03</th>\n",
       "      <th>sensor_04</th>\n",
       "      <th>sensor_05</th>\n",
       "      <th>sensor_06</th>\n",
       "      <th>sensor_07</th>\n",
       "      <th>sensor_08</th>\n",
       "      <th>sensor_09</th>\n",
       "      <th>...</th>\n",
       "      <th>sensor_42</th>\n",
       "      <th>sensor_43</th>\n",
       "      <th>sensor_44</th>\n",
       "      <th>sensor_45</th>\n",
       "      <th>sensor_46</th>\n",
       "      <th>sensor_47</th>\n",
       "      <th>sensor_48</th>\n",
       "      <th>sensor_49</th>\n",
       "      <th>sensor_51</th>\n",
       "      <th>broken</th>\n",
       "    </tr>\n",
       "  </thead>\n",
       "  <tbody>\n",
       "    <tr>\n",
       "      <th>0</th>\n",
       "      <td>2.458999</td>\n",
       "      <td>47.157115</td>\n",
       "      <td>53.200950</td>\n",
       "      <td>46.354164</td>\n",
       "      <td>633.940975</td>\n",
       "      <td>75.863615</td>\n",
       "      <td>13.366248</td>\n",
       "      <td>16.136790</td>\n",
       "      <td>15.612343</td>\n",
       "      <td>15.049915</td>\n",
       "      <td>...</td>\n",
       "      <td>31.705729</td>\n",
       "      <td>41.601557</td>\n",
       "      <td>39.424188</td>\n",
       "      <td>65.393518</td>\n",
       "      <td>51.070605</td>\n",
       "      <td>38.194441</td>\n",
       "      <td>156.97335</td>\n",
       "      <td>67.346648</td>\n",
       "      <td>202.401625</td>\n",
       "      <td>0</td>\n",
       "    </tr>\n",
       "    <tr>\n",
       "      <th>1</th>\n",
       "      <td>2.453195</td>\n",
       "      <td>47.478296</td>\n",
       "      <td>53.164060</td>\n",
       "      <td>46.397568</td>\n",
       "      <td>635.393490</td>\n",
       "      <td>75.879854</td>\n",
       "      <td>13.360821</td>\n",
       "      <td>16.168255</td>\n",
       "      <td>15.761719</td>\n",
       "      <td>15.106337</td>\n",
       "      <td>...</td>\n",
       "      <td>31.484375</td>\n",
       "      <td>42.265622</td>\n",
       "      <td>38.975694</td>\n",
       "      <td>58.043980</td>\n",
       "      <td>51.128472</td>\n",
       "      <td>39.091435</td>\n",
       "      <td>181.85764</td>\n",
       "      <td>69.733797</td>\n",
       "      <td>201.215260</td>\n",
       "      <td>0</td>\n",
       "    </tr>\n",
       "    <tr>\n",
       "      <th>2</th>\n",
       "      <td>2.454080</td>\n",
       "      <td>48.723958</td>\n",
       "      <td>53.190103</td>\n",
       "      <td>46.319442</td>\n",
       "      <td>635.648140</td>\n",
       "      <td>78.037966</td>\n",
       "      <td>13.353586</td>\n",
       "      <td>16.177660</td>\n",
       "      <td>15.669850</td>\n",
       "      <td>15.084637</td>\n",
       "      <td>...</td>\n",
       "      <td>31.874998</td>\n",
       "      <td>40.572914</td>\n",
       "      <td>41.984954</td>\n",
       "      <td>52.777776</td>\n",
       "      <td>46.064816</td>\n",
       "      <td>39.872686</td>\n",
       "      <td>221.87500</td>\n",
       "      <td>78.240739</td>\n",
       "      <td>200.578710</td>\n",
       "      <td>0</td>\n",
       "    </tr>\n",
       "    <tr>\n",
       "      <th>3</th>\n",
       "      <td>2.454178</td>\n",
       "      <td>48.554686</td>\n",
       "      <td>53.120658</td>\n",
       "      <td>46.245659</td>\n",
       "      <td>636.238420</td>\n",
       "      <td>74.929848</td>\n",
       "      <td>13.341288</td>\n",
       "      <td>16.153065</td>\n",
       "      <td>15.792101</td>\n",
       "      <td>15.070170</td>\n",
       "      <td>...</td>\n",
       "      <td>32.343747</td>\n",
       "      <td>39.583330</td>\n",
       "      <td>37.586804</td>\n",
       "      <td>47.829862</td>\n",
       "      <td>47.337964</td>\n",
       "      <td>40.538193</td>\n",
       "      <td>202.40162</td>\n",
       "      <td>100.781266</td>\n",
       "      <td>216.869210</td>\n",
       "      <td>0</td>\n",
       "    </tr>\n",
       "    <tr>\n",
       "      <th>4</th>\n",
       "      <td>2.454867</td>\n",
       "      <td>48.949651</td>\n",
       "      <td>53.116316</td>\n",
       "      <td>46.176213</td>\n",
       "      <td>633.750000</td>\n",
       "      <td>72.600750</td>\n",
       "      <td>13.342011</td>\n",
       "      <td>16.135703</td>\n",
       "      <td>15.661170</td>\n",
       "      <td>15.085359</td>\n",
       "      <td>...</td>\n",
       "      <td>32.421872</td>\n",
       "      <td>39.062497</td>\n",
       "      <td>36.516201</td>\n",
       "      <td>46.006944</td>\n",
       "      <td>44.155093</td>\n",
       "      <td>39.178240</td>\n",
       "      <td>220.77546</td>\n",
       "      <td>83.159725</td>\n",
       "      <td>221.527780</td>\n",
       "      <td>0</td>\n",
       "    </tr>\n",
       "  </tbody>\n",
       "</table>\n",
       "<p>5 rows × 51 columns</p>\n",
       "</div>"
      ],
      "text/plain": [
       "   sensor_00  sensor_01  sensor_02  sensor_03   sensor_04  sensor_05  \\\n",
       "0   2.458999  47.157115  53.200950  46.354164  633.940975  75.863615   \n",
       "1   2.453195  47.478296  53.164060  46.397568  635.393490  75.879854   \n",
       "2   2.454080  48.723958  53.190103  46.319442  635.648140  78.037966   \n",
       "3   2.454178  48.554686  53.120658  46.245659  636.238420  74.929848   \n",
       "4   2.454867  48.949651  53.116316  46.176213  633.750000  72.600750   \n",
       "\n",
       "   sensor_06  sensor_07  sensor_08  sensor_09  ...  sensor_42  sensor_43  \\\n",
       "0  13.366248  16.136790  15.612343  15.049915  ...  31.705729  41.601557   \n",
       "1  13.360821  16.168255  15.761719  15.106337  ...  31.484375  42.265622   \n",
       "2  13.353586  16.177660  15.669850  15.084637  ...  31.874998  40.572914   \n",
       "3  13.341288  16.153065  15.792101  15.070170  ...  32.343747  39.583330   \n",
       "4  13.342011  16.135703  15.661170  15.085359  ...  32.421872  39.062497   \n",
       "\n",
       "   sensor_44  sensor_45  sensor_46  sensor_47  sensor_48   sensor_49  \\\n",
       "0  39.424188  65.393518  51.070605  38.194441  156.97335   67.346648   \n",
       "1  38.975694  58.043980  51.128472  39.091435  181.85764   69.733797   \n",
       "2  41.984954  52.777776  46.064816  39.872686  221.87500   78.240739   \n",
       "3  37.586804  47.829862  47.337964  40.538193  202.40162  100.781266   \n",
       "4  36.516201  46.006944  44.155093  39.178240  220.77546   83.159725   \n",
       "\n",
       "    sensor_51  broken  \n",
       "0  202.401625       0  \n",
       "1  201.215260       0  \n",
       "2  200.578710       0  \n",
       "3  216.869210       0  \n",
       "4  221.527780       0  \n",
       "\n",
       "[5 rows x 51 columns]"
      ]
     },
     "execution_count": 3,
     "metadata": {},
     "output_type": "execute_result"
    }
   ],
   "source": [
    "df.head()"
   ]
  },
  {
   "cell_type": "markdown",
   "id": "69cf1cc2",
   "metadata": {},
   "source": [
    "## Train-Test-Split, SMOTE, Scaling"
   ]
  },
  {
   "cell_type": "code",
   "execution_count": 4,
   "id": "c28226b1",
   "metadata": {},
   "outputs": [],
   "source": [
    "X = df.drop('broken', axis=1)\n",
    "y = df.broken"
   ]
  },
  {
   "cell_type": "code",
   "execution_count": 5,
   "id": "dbefc85a",
   "metadata": {},
   "outputs": [
    {
     "data": {
      "text/plain": [
       "((9127, 50), (6085, 50), (9127,), (6085,))"
      ]
     },
     "execution_count": 5,
     "metadata": {},
     "output_type": "execute_result"
    }
   ],
   "source": [
    "X_train, X_test, y_train, y_test = train_test_split(X, y, test_size=0.4, stratify=y, random_state=44)\n",
    "X_train.shape, X_test.shape, y_train.shape, y_test.shape"
   ]
  },
  {
   "cell_type": "code",
   "execution_count": 6,
   "id": "da9fdf44",
   "metadata": {},
   "outputs": [
    {
     "name": "stdout",
     "output_type": "stream",
     "text": [
      "0    9123\n",
      "1       4\n",
      "Name: broken, dtype: int64\n",
      "Counter({0: 9123, 1: 9123})\n"
     ]
    }
   ],
   "source": [
    "# normally smote needs 6 neighbors, that is why i had to define number\n",
    "sm = SMOTE(k_neighbors=2, random_state = 12)\n",
    "X_trains, y_trains = sm.fit_resample(X_train, y_train)\n",
    "\n",
    "print(y_train.value_counts())\n",
    "print(collections.Counter(y_trains))"
   ]
  },
  {
   "cell_type": "code",
   "execution_count": 7,
   "id": "1b772b42",
   "metadata": {},
   "outputs": [],
   "source": [
    "# Scaler Object\n",
    "sc = StandardScaler()\n",
    "\n",
    "# Fitting on train\n",
    "sc.fit(X_trains)\n",
    "\n",
    "# Transformation of train and test\n",
    "X_trains = sc.transform(X_trains)\n",
    "X_tests = sc.transform(X_test)"
   ]
  },
  {
   "cell_type": "code",
   "execution_count": 8,
   "id": "3e93de89",
   "metadata": {},
   "outputs": [],
   "source": [
    "# Ohne Oversampling\n",
    "sc = StandardScaler()\n",
    "sc.fit(X_train)\n",
    "\n",
    "X_train = sc.transform(X_train)\n",
    "X_test = sc.transform(X_test)"
   ]
  },
  {
   "cell_type": "markdown",
   "id": "361216da",
   "metadata": {},
   "source": [
    "## Training and Predictions"
   ]
  },
  {
   "cell_type": "code",
   "execution_count": 9,
   "id": "1a426543",
   "metadata": {},
   "outputs": [
    {
     "data": {
      "text/plain": [
       "LogisticRegression()"
      ]
     },
     "execution_count": 9,
     "metadata": {},
     "output_type": "execute_result"
    }
   ],
   "source": [
    "lr = LogisticRegression()\n",
    "lr.fit(X_trains, y_trains)"
   ]
  },
  {
   "cell_type": "code",
   "execution_count": 10,
   "id": "3c658ccd",
   "metadata": {},
   "outputs": [],
   "source": [
    "y_pred = lr.predict(X_test)"
   ]
  },
  {
   "cell_type": "code",
   "execution_count": 11,
   "id": "ddb746cb",
   "metadata": {},
   "outputs": [],
   "source": [
    "cm = confusion_matrix(y_test, y_pred)"
   ]
  },
  {
   "cell_type": "code",
   "execution_count": 12,
   "id": "58ddb870",
   "metadata": {},
   "outputs": [
    {
     "data": {
      "image/png": "[encoded data removed]",
      "text/plain": [
       "<Figure size 432x288 with 2 Axes>"
      ]
     },
     "metadata": {
      "needs_background": "light"
     },
     "output_type": "display_data"
    }
   ],
   "source": [
    "plt.rcParams['font.size'] = 20\n",
    "ax= plt.subplot()\n",
    "sns.heatmap(cm, annot=True, ax = ax, cmap='Set2', fmt=\"\");\n",
    "\n",
    "# labels, title and ticks\n",
    "ax.set_xlabel('Predicted labels', fontsize=18);\n",
    "ax.set_ylabel('True labels', fontsize=18); \n",
    "ax.set_title('Confusion Matrix'); \n",
    "ax.xaxis.set_ticklabels(['0', '1']); \n",
    "ax.yaxis.set_ticklabels(['0', '1']);\n",
    "plt.tight_layout()"
   ]
  },
  {
   "cell_type": "code",
   "execution_count": 13,
   "id": "f431a906",
   "metadata": {},
   "outputs": [],
   "source": [
    "# Probabilities, first row probabilites of 0, second \n",
    "y_pred_ = lr.predict_proba(X_test)[:,1]"
   ]
  },
  {
   "cell_type": "code",
   "execution_count": 14,
   "id": "31f7d8e4",
   "metadata": {},
   "outputs": [],
   "source": [
    "# make DataFrame with results of prediction\n",
    "results = pd.DataFrame({'y_test': y_test, 'y_pred': y_pred, 'y_pred_proba':y_pred_})\n",
    "results = results.sort_index()"
   ]
  },
  {
   "cell_type": "code",
   "execution_count": 15,
   "id": "c259bdc6",
   "metadata": {},
   "outputs": [
    {
     "data": {
      "text/html": [
       "<div>\n",
       "<style scoped>\n",
       "    .dataframe tbody tr th:only-of-type {\n",
       "        vertical-align: middle;\n",
       "    }\n",
       "\n",
       "    .dataframe tbody tr th {\n",
       "        vertical-align: top;\n",
       "    }\n",
       "\n",
       "    .dataframe thead th {\n",
       "        text-align: right;\n",
       "    }\n",
       "</style>\n",
       "<table border=\"1\" class=\"dataframe\">\n",
       "  <thead>\n",
       "    <tr style=\"text-align: right;\">\n",
       "      <th></th>\n",
       "      <th>y_test</th>\n",
       "      <th>y_pred</th>\n",
       "      <th>y_pred_proba</th>\n",
       "    </tr>\n",
       "  </thead>\n",
       "  <tbody>\n",
       "    <tr>\n",
       "      <th>0</th>\n",
       "      <td>0</td>\n",
       "      <td>0</td>\n",
       "      <td>0.133019</td>\n",
       "    </tr>\n",
       "    <tr>\n",
       "      <th>1</th>\n",
       "      <td>0</td>\n",
       "      <td>0</td>\n",
       "      <td>0.352073</td>\n",
       "    </tr>\n",
       "    <tr>\n",
       "      <th>3</th>\n",
       "      <td>0</td>\n",
       "      <td>1</td>\n",
       "      <td>0.913408</td>\n",
       "    </tr>\n",
       "    <tr>\n",
       "      <th>6</th>\n",
       "      <td>0</td>\n",
       "      <td>1</td>\n",
       "      <td>0.644987</td>\n",
       "    </tr>\n",
       "    <tr>\n",
       "      <th>11</th>\n",
       "      <td>0</td>\n",
       "      <td>1</td>\n",
       "      <td>0.752195</td>\n",
       "    </tr>\n",
       "  </tbody>\n",
       "</table>\n",
       "</div>"
      ],
      "text/plain": [
       "    y_test  y_pred  y_pred_proba\n",
       "0        0       0      0.133019\n",
       "1        0       0      0.352073\n",
       "3        0       1      0.913408\n",
       "6        0       1      0.644987\n",
       "11       0       1      0.752195"
      ]
     },
     "execution_count": 15,
     "metadata": {},
     "output_type": "execute_result"
    }
   ],
   "source": [
    "results.head()"
   ]
  },
  {
   "cell_type": "code",
   "execution_count": 16,
   "id": "3da9d177",
   "metadata": {},
   "outputs": [
    {
     "data": {
      "text/html": [
       "<div>\n",
       "<style scoped>\n",
       "    .dataframe tbody tr th:only-of-type {\n",
       "        vertical-align: middle;\n",
       "    }\n",
       "\n",
       "    .dataframe tbody tr th {\n",
       "        vertical-align: top;\n",
       "    }\n",
       "\n",
       "    .dataframe thead th {\n",
       "        text-align: right;\n",
       "    }\n",
       "</style>\n",
       "<table border=\"1\" class=\"dataframe\">\n",
       "  <thead>\n",
       "    <tr style=\"text-align: right;\">\n",
       "      <th></th>\n",
       "      <th>y_test</th>\n",
       "      <th>y_pred</th>\n",
       "      <th>y_pred_proba</th>\n",
       "    </tr>\n",
       "  </thead>\n",
       "  <tbody>\n",
       "    <tr>\n",
       "      <th>3018</th>\n",
       "      <td>0</td>\n",
       "      <td>1</td>\n",
       "      <td>0.500472</td>\n",
       "    </tr>\n",
       "    <tr>\n",
       "      <th>3854</th>\n",
       "      <td>0</td>\n",
       "      <td>1</td>\n",
       "      <td>0.500624</td>\n",
       "    </tr>\n",
       "    <tr>\n",
       "      <th>11495</th>\n",
       "      <td>0</td>\n",
       "      <td>1</td>\n",
       "      <td>0.501518</td>\n",
       "    </tr>\n",
       "    <tr>\n",
       "      <th>13779</th>\n",
       "      <td>0</td>\n",
       "      <td>1</td>\n",
       "      <td>0.502836</td>\n",
       "    </tr>\n",
       "    <tr>\n",
       "      <th>13604</th>\n",
       "      <td>0</td>\n",
       "      <td>1</td>\n",
       "      <td>0.504129</td>\n",
       "    </tr>\n",
       "    <tr>\n",
       "      <th>4566</th>\n",
       "      <td>0</td>\n",
       "      <td>1</td>\n",
       "      <td>0.504314</td>\n",
       "    </tr>\n",
       "    <tr>\n",
       "      <th>13029</th>\n",
       "      <td>0</td>\n",
       "      <td>1</td>\n",
       "      <td>0.504732</td>\n",
       "    </tr>\n",
       "    <tr>\n",
       "      <th>7240</th>\n",
       "      <td>0</td>\n",
       "      <td>1</td>\n",
       "      <td>0.504826</td>\n",
       "    </tr>\n",
       "    <tr>\n",
       "      <th>4759</th>\n",
       "      <td>0</td>\n",
       "      <td>1</td>\n",
       "      <td>0.505477</td>\n",
       "    </tr>\n",
       "    <tr>\n",
       "      <th>4648</th>\n",
       "      <td>0</td>\n",
       "      <td>1</td>\n",
       "      <td>0.506360</td>\n",
       "    </tr>\n",
       "    <tr>\n",
       "      <th>13835</th>\n",
       "      <td>0</td>\n",
       "      <td>1</td>\n",
       "      <td>0.506509</td>\n",
       "    </tr>\n",
       "    <tr>\n",
       "      <th>12974</th>\n",
       "      <td>0</td>\n",
       "      <td>1</td>\n",
       "      <td>0.507988</td>\n",
       "    </tr>\n",
       "    <tr>\n",
       "      <th>2796</th>\n",
       "      <td>0</td>\n",
       "      <td>1</td>\n",
       "      <td>0.508030</td>\n",
       "    </tr>\n",
       "    <tr>\n",
       "      <th>14886</th>\n",
       "      <td>0</td>\n",
       "      <td>1</td>\n",
       "      <td>0.508846</td>\n",
       "    </tr>\n",
       "    <tr>\n",
       "      <th>12674</th>\n",
       "      <td>0</td>\n",
       "      <td>1</td>\n",
       "      <td>0.509145</td>\n",
       "    </tr>\n",
       "    <tr>\n",
       "      <th>14681</th>\n",
       "      <td>0</td>\n",
       "      <td>1</td>\n",
       "      <td>0.509550</td>\n",
       "    </tr>\n",
       "    <tr>\n",
       "      <th>6914</th>\n",
       "      <td>0</td>\n",
       "      <td>1</td>\n",
       "      <td>0.509607</td>\n",
       "    </tr>\n",
       "    <tr>\n",
       "      <th>14600</th>\n",
       "      <td>0</td>\n",
       "      <td>1</td>\n",
       "      <td>0.509867</td>\n",
       "    </tr>\n",
       "    <tr>\n",
       "      <th>12507</th>\n",
       "      <td>0</td>\n",
       "      <td>1</td>\n",
       "      <td>0.510400</td>\n",
       "    </tr>\n",
       "    <tr>\n",
       "      <th>14056</th>\n",
       "      <td>0</td>\n",
       "      <td>1</td>\n",
       "      <td>0.511103</td>\n",
       "    </tr>\n",
       "  </tbody>\n",
       "</table>\n",
       "</div>"
      ],
      "text/plain": [
       "       y_test  y_pred  y_pred_proba\n",
       "3018        0       1      0.500472\n",
       "3854        0       1      0.500624\n",
       "11495       0       1      0.501518\n",
       "13779       0       1      0.502836\n",
       "13604       0       1      0.504129\n",
       "4566        0       1      0.504314\n",
       "13029       0       1      0.504732\n",
       "7240        0       1      0.504826\n",
       "4759        0       1      0.505477\n",
       "4648        0       1      0.506360\n",
       "13835       0       1      0.506509\n",
       "12974       0       1      0.507988\n",
       "2796        0       1      0.508030\n",
       "14886       0       1      0.508846\n",
       "12674       0       1      0.509145\n",
       "14681       0       1      0.509550\n",
       "6914        0       1      0.509607\n",
       "14600       0       1      0.509867\n",
       "12507       0       1      0.510400\n",
       "14056       0       1      0.511103"
      ]
     },
     "execution_count": 16,
     "metadata": {},
     "output_type": "execute_result"
    }
   ],
   "source": [
    "# Where did prediction go wrong with default threshold?\n",
    "results[(y_test == 0) & (y_pred == 1)].sort_values('y_pred_proba', ascending=True).head(20)"
   ]
  },
  {
   "cell_type": "markdown",
   "id": "e86035da",
   "metadata": {},
   "source": [
    "There are many false positives in the prediction. Looking at the Data it can be seen, that the Algorithm was not too sure about many of them. So it could be  a valuable try to move the threshold that detemines, which Datapoint is considered to be a positive, in this case, a pump failure. "
   ]
  },
  {
   "cell_type": "code",
   "execution_count": 17,
   "id": "365a2f48",
   "metadata": {},
   "outputs": [],
   "source": [
    "# Create new assignment of target variable\n",
    "th7 = np.where(results['y_pred_proba']>=0.7,1,0)\n",
    "th8 = np.where(results['y_pred_proba']>=0.8,1,0)\n",
    "th9 = np.where(results['y_pred_proba']>=0.9,1,0)"
   ]
  },
  {
   "cell_type": "code",
   "execution_count": 18,
   "id": "88f02ab1",
   "metadata": {},
   "outputs": [],
   "source": [
    "# Add new columns with new thresholds to Results\n",
    "results.insert(2, \"thresh_7\", th7, True)\n",
    "results.insert(3, \"thresh_8\", th8, True)\n",
    "results.insert(4, \"thresh_9\", th9, True)"
   ]
  },
  {
   "cell_type": "code",
   "execution_count": 19,
   "id": "abcc1038",
   "metadata": {},
   "outputs": [
    {
     "data": {
      "text/html": [
       "<div>\n",
       "<style scoped>\n",
       "    .dataframe tbody tr th:only-of-type {\n",
       "        vertical-align: middle;\n",
       "    }\n",
       "\n",
       "    .dataframe tbody tr th {\n",
       "        vertical-align: top;\n",
       "    }\n",
       "\n",
       "    .dataframe thead th {\n",
       "        text-align: right;\n",
       "    }\n",
       "</style>\n",
       "<table border=\"1\" class=\"dataframe\">\n",
       "  <thead>\n",
       "    <tr style=\"text-align: right;\">\n",
       "      <th></th>\n",
       "      <th>y_test</th>\n",
       "      <th>y_pred</th>\n",
       "      <th>thresh_7</th>\n",
       "      <th>thresh_8</th>\n",
       "      <th>thresh_9</th>\n",
       "      <th>y_pred_proba</th>\n",
       "    </tr>\n",
       "  </thead>\n",
       "  <tbody>\n",
       "    <tr>\n",
       "      <th>0</th>\n",
       "      <td>0</td>\n",
       "      <td>0</td>\n",
       "      <td>0</td>\n",
       "      <td>0</td>\n",
       "      <td>0</td>\n",
       "      <td>0.133019</td>\n",
       "    </tr>\n",
       "    <tr>\n",
       "      <th>1</th>\n",
       "      <td>0</td>\n",
       "      <td>0</td>\n",
       "      <td>0</td>\n",
       "      <td>0</td>\n",
       "      <td>0</td>\n",
       "      <td>0.352073</td>\n",
       "    </tr>\n",
       "    <tr>\n",
       "      <th>3</th>\n",
       "      <td>0</td>\n",
       "      <td>1</td>\n",
       "      <td>1</td>\n",
       "      <td>1</td>\n",
       "      <td>1</td>\n",
       "      <td>0.913408</td>\n",
       "    </tr>\n",
       "    <tr>\n",
       "      <th>6</th>\n",
       "      <td>0</td>\n",
       "      <td>1</td>\n",
       "      <td>0</td>\n",
       "      <td>0</td>\n",
       "      <td>0</td>\n",
       "      <td>0.644987</td>\n",
       "    </tr>\n",
       "    <tr>\n",
       "      <th>11</th>\n",
       "      <td>0</td>\n",
       "      <td>1</td>\n",
       "      <td>1</td>\n",
       "      <td>0</td>\n",
       "      <td>0</td>\n",
       "      <td>0.752195</td>\n",
       "    </tr>\n",
       "  </tbody>\n",
       "</table>\n",
       "</div>"
      ],
      "text/plain": [
       "    y_test  y_pred  thresh_7  thresh_8  thresh_9  y_pred_proba\n",
       "0        0       0         0         0         0      0.133019\n",
       "1        0       0         0         0         0      0.352073\n",
       "3        0       1         1         1         1      0.913408\n",
       "6        0       1         0         0         0      0.644987\n",
       "11       0       1         1         0         0      0.752195"
      ]
     },
     "execution_count": 19,
     "metadata": {},
     "output_type": "execute_result"
    }
   ],
   "source": [
    "# Check new DataFrame\n",
    "results.head()"
   ]
  },
  {
   "cell_type": "code",
   "execution_count": 20,
   "id": "3c7d6e02",
   "metadata": {},
   "outputs": [
    {
     "data": {
      "text/plain": [
       "array([[4989, 1093],\n",
       "       [   1,    2]], dtype=int64)"
      ]
     },
     "execution_count": 20,
     "metadata": {},
     "output_type": "execute_result"
    }
   ],
   "source": [
    "# Look at new Confusion Matrices\n",
    "cm7 = confusion_matrix(results.y_test, results.thresh_7)\n",
    "cm7"
   ]
  },
  {
   "cell_type": "code",
   "execution_count": 21,
   "id": "48967c18",
   "metadata": {},
   "outputs": [
    {
     "data": {
      "text/plain": [
       "array([[5208,  874],\n",
       "       [   1,    2]], dtype=int64)"
      ]
     },
     "execution_count": 21,
     "metadata": {},
     "output_type": "execute_result"
    }
   ],
   "source": [
    "cm8 = confusion_matrix(results.y_test, results.thresh_8)\n",
    "cm8"
   ]
  },
  {
   "cell_type": "code",
   "execution_count": 22,
   "id": "2555a443",
   "metadata": {},
   "outputs": [
    {
     "data": {
      "text/plain": [
       "array([[5430,  652],\n",
       "       [   1,    2]], dtype=int64)"
      ]
     },
     "execution_count": 22,
     "metadata": {},
     "output_type": "execute_result"
    }
   ],
   "source": [
    "cm9 = confusion_matrix(results.y_test, results.thresh_9)\n",
    "cm9"
   ]
  },
  {
   "cell_type": "markdown",
   "id": "779c40e3",
   "metadata": {},
   "source": [
    "## First Conclusion\n",
    "- It is possible to predict 2 out of 3 pump failures of the test set. But- there are a lot of false flags\n",
    "- Moving the threshold upwards can reduce the number of false positives significantly!"
   ]
  },
  {
   "cell_type": "code",
   "execution_count": 23,
   "id": "3824ff46",
   "metadata": {},
   "outputs": [
    {
     "data": {
      "text/html": [
       "<div>\n",
       "<style scoped>\n",
       "    .dataframe tbody tr th:only-of-type {\n",
       "        vertical-align: middle;\n",
       "    }\n",
       "\n",
       "    .dataframe tbody tr th {\n",
       "        vertical-align: top;\n",
       "    }\n",
       "\n",
       "    .dataframe thead th {\n",
       "        text-align: right;\n",
       "    }\n",
       "</style>\n",
       "<table border=\"1\" class=\"dataframe\">\n",
       "  <thead>\n",
       "    <tr style=\"text-align: right;\">\n",
       "      <th></th>\n",
       "      <th>y_test</th>\n",
       "      <th>y_pred</th>\n",
       "      <th>thresh_7</th>\n",
       "      <th>thresh_8</th>\n",
       "      <th>thresh_9</th>\n",
       "      <th>y_pred_proba</th>\n",
       "    </tr>\n",
       "  </thead>\n",
       "  <tbody>\n",
       "    <tr>\n",
       "      <th>7246</th>\n",
       "      <td>1</td>\n",
       "      <td>0</td>\n",
       "      <td>0</td>\n",
       "      <td>0</td>\n",
       "      <td>0</td>\n",
       "      <td>5.609694e-29</td>\n",
       "    </tr>\n",
       "    <tr>\n",
       "      <th>12683</th>\n",
       "      <td>1</td>\n",
       "      <td>1</td>\n",
       "      <td>1</td>\n",
       "      <td>1</td>\n",
       "      <td>1</td>\n",
       "      <td>1.000000e+00</td>\n",
       "    </tr>\n",
       "    <tr>\n",
       "      <th>15211</th>\n",
       "      <td>1</td>\n",
       "      <td>1</td>\n",
       "      <td>1</td>\n",
       "      <td>1</td>\n",
       "      <td>1</td>\n",
       "      <td>1.000000e+00</td>\n",
       "    </tr>\n",
       "  </tbody>\n",
       "</table>\n",
       "</div>"
      ],
      "text/plain": [
       "       y_test  y_pred  thresh_7  thresh_8  thresh_9  y_pred_proba\n",
       "7246        1       0         0         0         0  5.609694e-29\n",
       "12683       1       1         1         1         1  1.000000e+00\n",
       "15211       1       1         1         1         1  1.000000e+00"
      ]
     },
     "execution_count": 23,
     "metadata": {},
     "output_type": "execute_result"
    }
   ],
   "source": [
    "# Looking at false negative \n",
    "results.loc[results.y_test == 1]"
   ]
  },
  {
   "cell_type": "code",
   "execution_count": 24,
   "id": "303c4e3c",
   "metadata": {},
   "outputs": [
    {
     "data": {
      "text/html": [
       "<div>\n",
       "<style scoped>\n",
       "    .dataframe tbody tr th:only-of-type {\n",
       "        vertical-align: middle;\n",
       "    }\n",
       "\n",
       "    .dataframe tbody tr th {\n",
       "        vertical-align: top;\n",
       "    }\n",
       "\n",
       "    .dataframe thead th {\n",
       "        text-align: right;\n",
       "    }\n",
       "</style>\n",
       "<table border=\"1\" class=\"dataframe\">\n",
       "  <thead>\n",
       "    <tr style=\"text-align: right;\">\n",
       "      <th></th>\n",
       "      <th>sensor_00</th>\n",
       "      <th>sensor_01</th>\n",
       "      <th>sensor_02</th>\n",
       "      <th>sensor_03</th>\n",
       "      <th>sensor_04</th>\n",
       "      <th>sensor_05</th>\n",
       "      <th>sensor_06</th>\n",
       "      <th>sensor_07</th>\n",
       "      <th>sensor_08</th>\n",
       "      <th>sensor_09</th>\n",
       "      <th>...</th>\n",
       "      <th>sensor_42</th>\n",
       "      <th>sensor_43</th>\n",
       "      <th>sensor_44</th>\n",
       "      <th>sensor_45</th>\n",
       "      <th>sensor_46</th>\n",
       "      <th>sensor_47</th>\n",
       "      <th>sensor_48</th>\n",
       "      <th>sensor_49</th>\n",
       "      <th>sensor_51</th>\n",
       "      <th>broken</th>\n",
       "    </tr>\n",
       "  </thead>\n",
       "  <tbody>\n",
       "    <tr>\n",
       "      <th>7246</th>\n",
       "      <td>2.317824</td>\n",
       "      <td>47.39583</td>\n",
       "      <td>51.475693</td>\n",
       "      <td>42.795135</td>\n",
       "      <td>608.1019</td>\n",
       "      <td>67.00203</td>\n",
       "      <td>14.19271</td>\n",
       "      <td>16.6522</td>\n",
       "      <td>16.14583</td>\n",
       "      <td>15.50926</td>\n",
       "      <td>...</td>\n",
       "      <td>172.9167</td>\n",
       "      <td>200.2604</td>\n",
       "      <td>70.8912</td>\n",
       "      <td>61.34259</td>\n",
       "      <td>127.8935</td>\n",
       "      <td>150.463</td>\n",
       "      <td>148.7269</td>\n",
       "      <td>65.39352</td>\n",
       "      <td>263.8889</td>\n",
       "      <td>1</td>\n",
       "    </tr>\n",
       "  </tbody>\n",
       "</table>\n",
       "<p>1 rows × 51 columns</p>\n",
       "</div>"
      ],
      "text/plain": [
       "      sensor_00  sensor_01  sensor_02  sensor_03  sensor_04  sensor_05  \\\n",
       "7246   2.317824   47.39583  51.475693  42.795135   608.1019   67.00203   \n",
       "\n",
       "      sensor_06  sensor_07  sensor_08  sensor_09  ...  sensor_42  sensor_43  \\\n",
       "7246   14.19271    16.6522   16.14583   15.50926  ...   172.9167   200.2604   \n",
       "\n",
       "      sensor_44  sensor_45  sensor_46  sensor_47  sensor_48  sensor_49  \\\n",
       "7246    70.8912   61.34259   127.8935    150.463   148.7269   65.39352   \n",
       "\n",
       "      sensor_51  broken  \n",
       "7246   263.8889       1  \n",
       "\n",
       "[1 rows x 51 columns]"
      ]
     },
     "execution_count": 24,
     "metadata": {},
     "output_type": "execute_result"
    }
   ],
   "source": [
    "df[df.index == 7246]"
   ]
  },
  {
   "cell_type": "markdown",
   "id": "2db4f354",
   "metadata": {},
   "source": [
    "## Next\n",
    "- Try the same model with Selected Features"
   ]
  }
 ],
 "metadata": {
  "kernelspec": {
   "display_name": "Python 3",
   "language": "python",
   "name": "python3"
  },
  "language_info": {
   "codemirror_mode": {
    "name": "ipython",
    "version": 3
   },
   "file_extension": ".py",
   "mimetype": "text/x-python",
   "name": "python",
   "nbconvert_exporter": "python",
   "pygments_lexer": "ipython3",
   "version": "3.8.8"
  },
  "varInspector": {
   "cols": {
    "lenName": 16,
    "lenType": 16,
    "lenVar": 40
   },
   "kernels_config": {
    "python": {
     "delete_cmd_postfix": "",
     "delete_cmd_prefix": "del ",
     "library": "var_list.py",
     "varRefreshCmd": "print(var_dic_list())"
    },
    "r": {
     "delete_cmd_postfix": ") ",
     "delete_cmd_prefix": "rm(",
     "library": "var_list.r",
     "varRefreshCmd": "cat(var_dic_list()) "
    }
   },
   "types_to_exclude": [
    "module",
    "function",
    "builtin_function_or_method",
    "instance",
    "_Feature"
   ],
   "window_display": false
  }
 },
 "nbformat": 4,
 "nbformat_minor": 5
}
