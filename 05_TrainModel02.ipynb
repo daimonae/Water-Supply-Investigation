{
 "cells": [
  {
   "cell_type": "markdown",
   "id": "e397dab9",
   "metadata": {},
   "source": [
    "## Supervised Binary Classification with parametric Algorithm with Feature Selection"
   ]
  },
  {
   "cell_type": "code",
   "execution_count": 1,
   "id": "7e6ad601",
   "metadata": {},
   "outputs": [],
   "source": [
    "# Data Manipulation and Visualization\n",
    "import pandas as pd\n",
    "import numpy as np\n",
    "import matplotlib.pyplot as plt\n",
    "import seaborn as sns\n",
    "from warnings import filterwarnings\n",
    "filterwarnings('ignore')\n",
    "\n",
    "\n",
    "# Data Preparation\n",
    "from sklearn.model_selection import train_test_split\n",
    "import collections\n",
    "from imblearn.over_sampling import SMOTE\n",
    "from sklearn.preprocessing import StandardScaler\n",
    "\n",
    "# Machine learning\n",
    "from sklearn.linear_model import LogisticRegression\n",
    "from sklearn.metrics import confusion_matrix"
   ]
  },
  {
   "cell_type": "markdown",
   "id": "0f0547c1",
   "metadata": {},
   "source": [
    "## Import and Check Data"
   ]
  },
  {
   "cell_type": "code",
   "execution_count": 2,
   "id": "d8df8bd1",
   "metadata": {},
   "outputs": [],
   "source": [
    "data = pd.read_csv('transform_one.csv')"
   ]
  },
  {
   "cell_type": "code",
   "execution_count": 3,
   "id": "0d0df722",
   "metadata": {},
   "outputs": [],
   "source": [
    "df = data[['sensor_04',\n",
    "             'sensor_12',\n",
    "             'sensor_00',\n",
    "             'sensor_09',\n",
    "             'sensor_05',\n",
    "             'sensor_06',\n",
    "             'sensor_11',\n",
    "             'sensor_10',\n",
    "              'broken']]"
   ]
  },
  {
   "cell_type": "code",
   "execution_count": 4,
   "id": "911e3f26",
   "metadata": {},
   "outputs": [
    {
     "data": {
      "text/html": [
       "<div>\n",
       "<style scoped>\n",
       "    .dataframe tbody tr th:only-of-type {\n",
       "        vertical-align: middle;\n",
       "    }\n",
       "\n",
       "    .dataframe tbody tr th {\n",
       "        vertical-align: top;\n",
       "    }\n",
       "\n",
       "    .dataframe thead th {\n",
       "        text-align: right;\n",
       "    }\n",
       "</style>\n",
       "<table border=\"1\" class=\"dataframe\">\n",
       "  <thead>\n",
       "    <tr style=\"text-align: right;\">\n",
       "      <th></th>\n",
       "      <th>sensor_04</th>\n",
       "      <th>sensor_12</th>\n",
       "      <th>sensor_00</th>\n",
       "      <th>sensor_09</th>\n",
       "      <th>sensor_05</th>\n",
       "      <th>sensor_06</th>\n",
       "      <th>sensor_11</th>\n",
       "      <th>sensor_10</th>\n",
       "      <th>broken</th>\n",
       "    </tr>\n",
       "  </thead>\n",
       "  <tbody>\n",
       "    <tr>\n",
       "      <th>0</th>\n",
       "      <td>633.940975</td>\n",
       "      <td>31.498868</td>\n",
       "      <td>2.458999</td>\n",
       "      <td>15.049915</td>\n",
       "      <td>75.863615</td>\n",
       "      <td>13.366248</td>\n",
       "      <td>47.970435</td>\n",
       "      <td>37.725585</td>\n",
       "      <td>0</td>\n",
       "    </tr>\n",
       "    <tr>\n",
       "      <th>1</th>\n",
       "      <td>635.393490</td>\n",
       "      <td>32.547885</td>\n",
       "      <td>2.453195</td>\n",
       "      <td>15.106337</td>\n",
       "      <td>75.879854</td>\n",
       "      <td>13.360821</td>\n",
       "      <td>50.081416</td>\n",
       "      <td>39.303099</td>\n",
       "      <td>0</td>\n",
       "    </tr>\n",
       "    <tr>\n",
       "      <th>2</th>\n",
       "      <td>635.648140</td>\n",
       "      <td>36.587704</td>\n",
       "      <td>2.454080</td>\n",
       "      <td>15.084637</td>\n",
       "      <td>78.037966</td>\n",
       "      <td>13.353586</td>\n",
       "      <td>51.517580</td>\n",
       "      <td>42.958226</td>\n",
       "      <td>0</td>\n",
       "    </tr>\n",
       "    <tr>\n",
       "      <th>3</th>\n",
       "      <td>636.238420</td>\n",
       "      <td>37.281891</td>\n",
       "      <td>2.454178</td>\n",
       "      <td>15.070170</td>\n",
       "      <td>74.929848</td>\n",
       "      <td>13.341288</td>\n",
       "      <td>54.420873</td>\n",
       "      <td>45.944665</td>\n",
       "      <td>0</td>\n",
       "    </tr>\n",
       "    <tr>\n",
       "      <th>4</th>\n",
       "      <td>633.750000</td>\n",
       "      <td>38.934723</td>\n",
       "      <td>2.454867</td>\n",
       "      <td>15.085359</td>\n",
       "      <td>72.600750</td>\n",
       "      <td>13.342011</td>\n",
       "      <td>53.039554</td>\n",
       "      <td>41.185838</td>\n",
       "      <td>0</td>\n",
       "    </tr>\n",
       "  </tbody>\n",
       "</table>\n",
       "</div>"
      ],
      "text/plain": [
       "    sensor_04  sensor_12  sensor_00  sensor_09  sensor_05  sensor_06  \\\n",
       "0  633.940975  31.498868   2.458999  15.049915  75.863615  13.366248   \n",
       "1  635.393490  32.547885   2.453195  15.106337  75.879854  13.360821   \n",
       "2  635.648140  36.587704   2.454080  15.084637  78.037966  13.353586   \n",
       "3  636.238420  37.281891   2.454178  15.070170  74.929848  13.341288   \n",
       "4  633.750000  38.934723   2.454867  15.085359  72.600750  13.342011   \n",
       "\n",
       "   sensor_11  sensor_10  broken  \n",
       "0  47.970435  37.725585       0  \n",
       "1  50.081416  39.303099       0  \n",
       "2  51.517580  42.958226       0  \n",
       "3  54.420873  45.944665       0  \n",
       "4  53.039554  41.185838       0  "
      ]
     },
     "execution_count": 4,
     "metadata": {},
     "output_type": "execute_result"
    }
   ],
   "source": [
    "df.head()"
   ]
  },
  {
   "cell_type": "markdown",
   "id": "69cf1cc2",
   "metadata": {},
   "source": [
    "## Train-Test-Split, SMOTE, Scaling"
   ]
  },
  {
   "cell_type": "code",
   "execution_count": 5,
   "id": "c28226b1",
   "metadata": {},
   "outputs": [],
   "source": [
    "X = df.drop('broken', axis=1)\n",
    "y = df.broken"
   ]
  },
  {
   "cell_type": "code",
   "execution_count": 6,
   "id": "dbefc85a",
   "metadata": {},
   "outputs": [
    {
     "data": {
      "text/plain": [
       "((9127, 8), (6085, 8), (9127,), (6085,))"
      ]
     },
     "execution_count": 6,
     "metadata": {},
     "output_type": "execute_result"
    }
   ],
   "source": [
    "X_train, X_test, y_train, y_test = train_test_split(X, y, test_size=0.4, stratify=y, random_state=44)\n",
    "X_train.shape, X_test.shape, y_train.shape, y_test.shape"
   ]
  },
  {
   "cell_type": "code",
   "execution_count": 7,
   "id": "da9fdf44",
   "metadata": {},
   "outputs": [
    {
     "name": "stdout",
     "output_type": "stream",
     "text": [
      "0    9123\n",
      "1       4\n",
      "Name: broken, dtype: int64\n",
      "Counter({0: 9123, 1: 9123})\n"
     ]
    }
   ],
   "source": [
    "# normally smote needs 6 neighbors, that is why i had to define number\n",
    "sm = SMOTE(k_neighbors=2, random_state = 12)\n",
    "X_trains, y_trains = sm.fit_resample(X_train, y_train)\n",
    "\n",
    "print(y_train.value_counts())\n",
    "print(collections.Counter(y_trains))"
   ]
  },
  {
   "cell_type": "code",
   "execution_count": 8,
   "id": "1b772b42",
   "metadata": {},
   "outputs": [],
   "source": [
    "# Scaler Object\n",
    "sc = StandardScaler()\n",
    "\n",
    "# Fitting on train\n",
    "sc.fit(X_trains)\n",
    "\n",
    "# Transformation of train and test\n",
    "X_trains = sc.transform(X_trains)\n",
    "X_tests = sc.transform(X_test)"
   ]
  },
  {
   "cell_type": "code",
   "execution_count": 9,
   "id": "3e93de89",
   "metadata": {},
   "outputs": [],
   "source": [
    "# Ohne Oversampling\n",
    "sc = StandardScaler()\n",
    "sc.fit(X_train)\n",
    "\n",
    "X_train = sc.transform(X_train)\n",
    "X_test = sc.transform(X_test)"
   ]
  },
  {
   "cell_type": "markdown",
   "id": "361216da",
   "metadata": {},
   "source": [
    "## Training and Predictions"
   ]
  },
  {
   "cell_type": "code",
   "execution_count": 10,
   "id": "1a426543",
   "metadata": {},
   "outputs": [
    {
     "data": {
      "text/plain": [
       "LogisticRegression()"
      ]
     },
     "execution_count": 10,
     "metadata": {},
     "output_type": "execute_result"
    }
   ],
   "source": [
    "lr = LogisticRegression()\n",
    "lr.fit(X_trains, y_trains)"
   ]
  },
  {
   "cell_type": "code",
   "execution_count": 11,
   "id": "3c658ccd",
   "metadata": {},
   "outputs": [],
   "source": [
    "y_pred = lr.predict(X_test)"
   ]
  },
  {
   "cell_type": "code",
   "execution_count": 12,
   "id": "ddb746cb",
   "metadata": {},
   "outputs": [],
   "source": [
    "cm = confusion_matrix(y_test, y_pred)"
   ]
  },
  {
   "cell_type": "code",
   "execution_count": 13,
   "id": "58ddb870",
   "metadata": {},
   "outputs": [
    {
     "data": {
      "image/png": "[encoded data removed]",
      "text/plain": [
       "<Figure size 432x288 with 2 Axes>"
      ]
     },
     "metadata": {
      "needs_background": "light"
     },
     "output_type": "display_data"
    }
   ],
   "source": [
    "plt.rcParams['font.size'] = 20\n",
    "ax= plt.subplot()\n",
    "sns.heatmap(cm, annot=True, ax = ax, cmap='Set2', fmt=\"\");\n",
    "\n",
    "# labels, title and ticks\n",
    "ax.set_xlabel('Predicted labels', fontsize=18);\n",
    "ax.set_ylabel('True labels', fontsize=18); \n",
    "ax.set_title('Confusion Matrix'); \n",
    "ax.xaxis.set_ticklabels(['0', '1']); \n",
    "ax.yaxis.set_ticklabels(['0', '1']);\n",
    "plt.tight_layout()"
   ]
  },
  {
   "cell_type": "markdown",
   "id": "e082e72e",
   "metadata": {},
   "source": [
    "Got all of them! Still, too many false positives. Will try same procedure as before by moving threshold."
   ]
  },
  {
   "cell_type": "code",
   "execution_count": 14,
   "id": "f431a906",
   "metadata": {},
   "outputs": [],
   "source": [
    "# Probabilities, first row probabilites of 0, second \n",
    "y_pred_ = lr.predict_proba(X_test)[:,1]"
   ]
  },
  {
   "cell_type": "code",
   "execution_count": 15,
   "id": "31f7d8e4",
   "metadata": {},
   "outputs": [],
   "source": [
    "# make DataFrame with results of prediction\n",
    "results = pd.DataFrame({'y_test': y_test, 'y_pred': y_pred, 'y_pred_proba':y_pred_})\n",
    "results = results.sort_index()"
   ]
  },
  {
   "cell_type": "code",
   "execution_count": 16,
   "id": "c259bdc6",
   "metadata": {},
   "outputs": [
    {
     "data": {
      "text/html": [
       "<div>\n",
       "<style scoped>\n",
       "    .dataframe tbody tr th:only-of-type {\n",
       "        vertical-align: middle;\n",
       "    }\n",
       "\n",
       "    .dataframe tbody tr th {\n",
       "        vertical-align: top;\n",
       "    }\n",
       "\n",
       "    .dataframe thead th {\n",
       "        text-align: right;\n",
       "    }\n",
       "</style>\n",
       "<table border=\"1\" class=\"dataframe\">\n",
       "  <thead>\n",
       "    <tr style=\"text-align: right;\">\n",
       "      <th></th>\n",
       "      <th>y_test</th>\n",
       "      <th>y_pred</th>\n",
       "      <th>y_pred_proba</th>\n",
       "    </tr>\n",
       "  </thead>\n",
       "  <tbody>\n",
       "    <tr>\n",
       "      <th>0</th>\n",
       "      <td>0</td>\n",
       "      <td>0</td>\n",
       "      <td>0.234106</td>\n",
       "    </tr>\n",
       "    <tr>\n",
       "      <th>1</th>\n",
       "      <td>0</td>\n",
       "      <td>0</td>\n",
       "      <td>0.487120</td>\n",
       "    </tr>\n",
       "    <tr>\n",
       "      <th>3</th>\n",
       "      <td>0</td>\n",
       "      <td>1</td>\n",
       "      <td>0.944525</td>\n",
       "    </tr>\n",
       "    <tr>\n",
       "      <th>6</th>\n",
       "      <td>0</td>\n",
       "      <td>1</td>\n",
       "      <td>0.920055</td>\n",
       "    </tr>\n",
       "    <tr>\n",
       "      <th>11</th>\n",
       "      <td>0</td>\n",
       "      <td>1</td>\n",
       "      <td>0.871741</td>\n",
       "    </tr>\n",
       "  </tbody>\n",
       "</table>\n",
       "</div>"
      ],
      "text/plain": [
       "    y_test  y_pred  y_pred_proba\n",
       "0        0       0      0.234106\n",
       "1        0       0      0.487120\n",
       "3        0       1      0.944525\n",
       "6        0       1      0.920055\n",
       "11       0       1      0.871741"
      ]
     },
     "execution_count": 16,
     "metadata": {},
     "output_type": "execute_result"
    }
   ],
   "source": [
    "results.head()"
   ]
  },
  {
   "cell_type": "code",
   "execution_count": 17,
   "id": "3da9d177",
   "metadata": {},
   "outputs": [
    {
     "data": {
      "text/html": [
       "<div>\n",
       "<style scoped>\n",
       "    .dataframe tbody tr th:only-of-type {\n",
       "        vertical-align: middle;\n",
       "    }\n",
       "\n",
       "    .dataframe tbody tr th {\n",
       "        vertical-align: top;\n",
       "    }\n",
       "\n",
       "    .dataframe thead th {\n",
       "        text-align: right;\n",
       "    }\n",
       "</style>\n",
       "<table border=\"1\" class=\"dataframe\">\n",
       "  <thead>\n",
       "    <tr style=\"text-align: right;\">\n",
       "      <th></th>\n",
       "      <th>y_test</th>\n",
       "      <th>y_pred</th>\n",
       "      <th>y_pred_proba</th>\n",
       "    </tr>\n",
       "  </thead>\n",
       "  <tbody>\n",
       "    <tr>\n",
       "      <th>5181</th>\n",
       "      <td>0</td>\n",
       "      <td>1</td>\n",
       "      <td>0.500004</td>\n",
       "    </tr>\n",
       "    <tr>\n",
       "      <th>3175</th>\n",
       "      <td>0</td>\n",
       "      <td>1</td>\n",
       "      <td>0.500299</td>\n",
       "    </tr>\n",
       "    <tr>\n",
       "      <th>13357</th>\n",
       "      <td>0</td>\n",
       "      <td>1</td>\n",
       "      <td>0.501434</td>\n",
       "    </tr>\n",
       "    <tr>\n",
       "      <th>3747</th>\n",
       "      <td>0</td>\n",
       "      <td>1</td>\n",
       "      <td>0.502135</td>\n",
       "    </tr>\n",
       "    <tr>\n",
       "      <th>6589</th>\n",
       "      <td>0</td>\n",
       "      <td>1</td>\n",
       "      <td>0.502738</td>\n",
       "    </tr>\n",
       "    <tr>\n",
       "      <th>379</th>\n",
       "      <td>0</td>\n",
       "      <td>1</td>\n",
       "      <td>0.503254</td>\n",
       "    </tr>\n",
       "    <tr>\n",
       "      <th>6302</th>\n",
       "      <td>0</td>\n",
       "      <td>1</td>\n",
       "      <td>0.503594</td>\n",
       "    </tr>\n",
       "    <tr>\n",
       "      <th>524</th>\n",
       "      <td>0</td>\n",
       "      <td>1</td>\n",
       "      <td>0.503804</td>\n",
       "    </tr>\n",
       "    <tr>\n",
       "      <th>3272</th>\n",
       "      <td>0</td>\n",
       "      <td>1</td>\n",
       "      <td>0.504496</td>\n",
       "    </tr>\n",
       "    <tr>\n",
       "      <th>600</th>\n",
       "      <td>0</td>\n",
       "      <td>1</td>\n",
       "      <td>0.505393</td>\n",
       "    </tr>\n",
       "    <tr>\n",
       "      <th>14186</th>\n",
       "      <td>0</td>\n",
       "      <td>1</td>\n",
       "      <td>0.505419</td>\n",
       "    </tr>\n",
       "    <tr>\n",
       "      <th>13029</th>\n",
       "      <td>0</td>\n",
       "      <td>1</td>\n",
       "      <td>0.505564</td>\n",
       "    </tr>\n",
       "    <tr>\n",
       "      <th>13742</th>\n",
       "      <td>0</td>\n",
       "      <td>1</td>\n",
       "      <td>0.507135</td>\n",
       "    </tr>\n",
       "    <tr>\n",
       "      <th>3308</th>\n",
       "      <td>0</td>\n",
       "      <td>1</td>\n",
       "      <td>0.507603</td>\n",
       "    </tr>\n",
       "    <tr>\n",
       "      <th>12941</th>\n",
       "      <td>0</td>\n",
       "      <td>1</td>\n",
       "      <td>0.508102</td>\n",
       "    </tr>\n",
       "    <tr>\n",
       "      <th>13931</th>\n",
       "      <td>0</td>\n",
       "      <td>1</td>\n",
       "      <td>0.510088</td>\n",
       "    </tr>\n",
       "    <tr>\n",
       "      <th>2480</th>\n",
       "      <td>0</td>\n",
       "      <td>1</td>\n",
       "      <td>0.511333</td>\n",
       "    </tr>\n",
       "    <tr>\n",
       "      <th>13837</th>\n",
       "      <td>0</td>\n",
       "      <td>1</td>\n",
       "      <td>0.512834</td>\n",
       "    </tr>\n",
       "    <tr>\n",
       "      <th>11898</th>\n",
       "      <td>0</td>\n",
       "      <td>1</td>\n",
       "      <td>0.512933</td>\n",
       "    </tr>\n",
       "    <tr>\n",
       "      <th>2481</th>\n",
       "      <td>0</td>\n",
       "      <td>1</td>\n",
       "      <td>0.513498</td>\n",
       "    </tr>\n",
       "  </tbody>\n",
       "</table>\n",
       "</div>"
      ],
      "text/plain": [
       "       y_test  y_pred  y_pred_proba\n",
       "5181        0       1      0.500004\n",
       "3175        0       1      0.500299\n",
       "13357       0       1      0.501434\n",
       "3747        0       1      0.502135\n",
       "6589        0       1      0.502738\n",
       "379         0       1      0.503254\n",
       "6302        0       1      0.503594\n",
       "524         0       1      0.503804\n",
       "3272        0       1      0.504496\n",
       "600         0       1      0.505393\n",
       "14186       0       1      0.505419\n",
       "13029       0       1      0.505564\n",
       "13742       0       1      0.507135\n",
       "3308        0       1      0.507603\n",
       "12941       0       1      0.508102\n",
       "13931       0       1      0.510088\n",
       "2480        0       1      0.511333\n",
       "13837       0       1      0.512834\n",
       "11898       0       1      0.512933\n",
       "2481        0       1      0.513498"
      ]
     },
     "execution_count": 17,
     "metadata": {},
     "output_type": "execute_result"
    }
   ],
   "source": [
    "# Where did prediction go wrong with default threshold?\n",
    "results[(y_test == 0) & (y_pred == 1)].sort_values('y_pred_proba', ascending=True).head(20)"
   ]
  },
  {
   "cell_type": "markdown",
   "id": "e86035da",
   "metadata": {},
   "source": [
    "There are many false positives in the prediction. Looking at the Data it can be seen, that the Algorithm was not too sure about many of them. So it could be  a valuable try to move the threshold that detemines, which Datapoint is considered to be a positive, in this case, a pump failure. "
   ]
  },
  {
   "cell_type": "code",
   "execution_count": 18,
   "id": "365a2f48",
   "metadata": {},
   "outputs": [],
   "source": [
    "# Create new assignment of target variable\n",
    "th7 = np.where(results['y_pred_proba']>=0.7,1,0)\n",
    "th8 = np.where(results['y_pred_proba']>=0.8,1,0)\n",
    "th9 = np.where(results['y_pred_proba']>=0.9,1,0)"
   ]
  },
  {
   "cell_type": "code",
   "execution_count": 19,
   "id": "88f02ab1",
   "metadata": {},
   "outputs": [],
   "source": [
    "# Add new columns with new thresholds to Results\n",
    "results.insert(2, \"thresh_7\", th7, True)\n",
    "results.insert(3, \"thresh_8\", th8, True)\n",
    "results.insert(4, \"thresh_9\", th9, True)"
   ]
  },
  {
   "cell_type": "code",
   "execution_count": 20,
   "id": "abcc1038",
   "metadata": {},
   "outputs": [
    {
     "data": {
      "text/html": [
       "<div>\n",
       "<style scoped>\n",
       "    .dataframe tbody tr th:only-of-type {\n",
       "        vertical-align: middle;\n",
       "    }\n",
       "\n",
       "    .dataframe tbody tr th {\n",
       "        vertical-align: top;\n",
       "    }\n",
       "\n",
       "    .dataframe thead th {\n",
       "        text-align: right;\n",
       "    }\n",
       "</style>\n",
       "<table border=\"1\" class=\"dataframe\">\n",
       "  <thead>\n",
       "    <tr style=\"text-align: right;\">\n",
       "      <th></th>\n",
       "      <th>y_test</th>\n",
       "      <th>y_pred</th>\n",
       "      <th>thresh_7</th>\n",
       "      <th>thresh_8</th>\n",
       "      <th>thresh_9</th>\n",
       "      <th>y_pred_proba</th>\n",
       "    </tr>\n",
       "  </thead>\n",
       "  <tbody>\n",
       "    <tr>\n",
       "      <th>0</th>\n",
       "      <td>0</td>\n",
       "      <td>0</td>\n",
       "      <td>0</td>\n",
       "      <td>0</td>\n",
       "      <td>0</td>\n",
       "      <td>0.234106</td>\n",
       "    </tr>\n",
       "    <tr>\n",
       "      <th>1</th>\n",
       "      <td>0</td>\n",
       "      <td>0</td>\n",
       "      <td>0</td>\n",
       "      <td>0</td>\n",
       "      <td>0</td>\n",
       "      <td>0.487120</td>\n",
       "    </tr>\n",
       "    <tr>\n",
       "      <th>3</th>\n",
       "      <td>0</td>\n",
       "      <td>1</td>\n",
       "      <td>1</td>\n",
       "      <td>1</td>\n",
       "      <td>1</td>\n",
       "      <td>0.944525</td>\n",
       "    </tr>\n",
       "    <tr>\n",
       "      <th>6</th>\n",
       "      <td>0</td>\n",
       "      <td>1</td>\n",
       "      <td>1</td>\n",
       "      <td>1</td>\n",
       "      <td>1</td>\n",
       "      <td>0.920055</td>\n",
       "    </tr>\n",
       "    <tr>\n",
       "      <th>11</th>\n",
       "      <td>0</td>\n",
       "      <td>1</td>\n",
       "      <td>1</td>\n",
       "      <td>1</td>\n",
       "      <td>0</td>\n",
       "      <td>0.871741</td>\n",
       "    </tr>\n",
       "  </tbody>\n",
       "</table>\n",
       "</div>"
      ],
      "text/plain": [
       "    y_test  y_pred  thresh_7  thresh_8  thresh_9  y_pred_proba\n",
       "0        0       0         0         0         0      0.234106\n",
       "1        0       0         0         0         0      0.487120\n",
       "3        0       1         1         1         1      0.944525\n",
       "6        0       1         1         1         1      0.920055\n",
       "11       0       1         1         1         0      0.871741"
      ]
     },
     "execution_count": 20,
     "metadata": {},
     "output_type": "execute_result"
    }
   ],
   "source": [
    "# Check new DataFrame\n",
    "results.head()"
   ]
  },
  {
   "cell_type": "code",
   "execution_count": 21,
   "id": "3c7d6e02",
   "metadata": {},
   "outputs": [
    {
     "data": {
      "text/plain": [
       "array([[4905, 1177],\n",
       "       [   0,    3]], dtype=int64)"
      ]
     },
     "execution_count": 21,
     "metadata": {},
     "output_type": "execute_result"
    }
   ],
   "source": [
    "# Look at new Confusion Matrices\n",
    "cm7 = confusion_matrix(results.y_test, results.thresh_7)\n",
    "cm7"
   ]
  },
  {
   "cell_type": "code",
   "execution_count": 22,
   "id": "48967c18",
   "metadata": {},
   "outputs": [
    {
     "data": {
      "text/plain": [
       "array([[5078, 1004],\n",
       "       [   0,    3]], dtype=int64)"
      ]
     },
     "execution_count": 22,
     "metadata": {},
     "output_type": "execute_result"
    }
   ],
   "source": [
    "cm8 = confusion_matrix(results.y_test, results.thresh_8)\n",
    "cm8"
   ]
  },
  {
   "cell_type": "code",
   "execution_count": 23,
   "id": "2555a443",
   "metadata": {},
   "outputs": [
    {
     "data": {
      "text/plain": [
       "array([[5307,  775],\n",
       "       [   0,    3]], dtype=int64)"
      ]
     },
     "execution_count": 23,
     "metadata": {},
     "output_type": "execute_result"
    }
   ],
   "source": [
    "cm9 = confusion_matrix(results.y_test, results.thresh_9)\n",
    "cm9"
   ]
  },
  {
   "cell_type": "markdown",
   "id": "779c40e3",
   "metadata": {},
   "source": [
    "## Conclusion\n",
    "- We predicted 3 out of 3 pump failures of the test set! There are still too many false flags\n",
    "- Moving the threshold upwards can reduce these. "
   ]
  },
  {
   "cell_type": "markdown",
   "id": "2db4f354",
   "metadata": {},
   "source": [
    "## Future Work\n",
    "- Look at false negative value and find out, why LR did not catch it\n",
    "- Try more complex Algorithms\n",
    "- Try Feature Engineering: PCA\n",
    "- Hyperparameter Tuning: Regulation"
   ]
  }
 ],
 "metadata": {
  "kernelspec": {
   "display_name": "Python 3",
   "language": "python",
   "name": "python3"
  },
  "language_info": {
   "codemirror_mode": {
    "name": "ipython",
    "version": 3
   },
   "file_extension": ".py",
   "mimetype": "text/x-python",
   "name": "python",
   "nbconvert_exporter": "python",
   "pygments_lexer": "ipython3",
   "version": "3.8.8"
  },
  "varInspector": {
   "cols": {
    "lenName": 16,
    "lenType": 16,
    "lenVar": 40
   },
   "kernels_config": {
    "python": {
     "delete_cmd_postfix": "",
     "delete_cmd_prefix": "del ",
     "library": "var_list.py",
     "varRefreshCmd": "print(var_dic_list())"
    },
    "r": {
     "delete_cmd_postfix": ") ",
     "delete_cmd_prefix": "rm(",
     "library": "var_list.r",
     "varRefreshCmd": "cat(var_dic_list()) "
    }
   },
   "types_to_exclude": [
    "module",
    "function",
    "builtin_function_or_method",
    "instance",
    "_Feature"
   ],
   "window_display": false
  }
 },
 "nbformat": 4,
 "nbformat_minor": 5
}
